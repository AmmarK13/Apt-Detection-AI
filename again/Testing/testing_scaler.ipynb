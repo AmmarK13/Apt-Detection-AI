{
 "cells": [
  {
   "cell_type": "code",
   "execution_count": null,
   "id": "519acac0",
   "metadata": {},
   "outputs": [],
   "source": [
    "from sklearn.preprocessing import MinMaxScaler\n",
    "import joblib\n",
    "\n",
    "scaler = joblib.load(r'D:\\4th semester\\SE\\project\\Models\\min_max_scaler.pkl')  # Your saved fitted scaler\n",
    "new_data_scaled = scaler.transform(new_data_cleaned)  # Must be cleaned and feature-matched\n"
   ]
  }
 ],
 "metadata": {
  "language_info": {
   "name": "python"
  }
 },
 "nbformat": 4,
 "nbformat_minor": 5
}
