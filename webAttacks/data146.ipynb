{
 "cells": [
  {
   "cell_type": "code",
   "execution_count": 1,
   "metadata": {},
   "outputs": [
    {
     "name": "stdout",
     "output_type": "stream",
     "text": [
      "Dataset loaded successfully. Shape: (61065, 17)\n"
     ]
    }
   ],
   "source": [
    "import polars as pl\n",
    "\n",
    "# Load your CSV dataset (adjust the path and file name as needed)\n",
    "df = pl.read_csv(\"csic_database.csv\")  \n",
    "print(\"Dataset loaded successfully. Shape:\", df.shape)"
   ]
  },
  {
   "cell_type": "code",
   "execution_count": 2,
   "metadata": {},
   "outputs": [
    {
     "name": "stdout",
     "output_type": "stream",
     "text": [
      "shape: (5, 17)\n",
      "┌────────┬────────┬─────────────┬──────────┬───┬────────────┬────────────┬────────────┬────────────┐\n",
      "│        ┆ Method ┆ User-Agent  ┆ Pragma   ┆ … ┆ lenght     ┆ content    ┆ classifica ┆ URL        │\n",
      "│ ---    ┆ ---    ┆ ---         ┆ ---      ┆   ┆ ---        ┆ ---        ┆ tion       ┆ ---        │\n",
      "│ str    ┆ str    ┆ str         ┆ str      ┆   ┆ str        ┆ str        ┆ ---        ┆ str        │\n",
      "│        ┆        ┆             ┆          ┆   ┆            ┆            ┆ i64        ┆            │\n",
      "╞════════╪════════╪═════════════╪══════════╪═══╪════════════╪════════════╪════════════╪════════════╡\n",
      "│ Normal ┆ GET    ┆ Mozilla/5.0 ┆ no-cache ┆ … ┆ null       ┆ null       ┆ 0          ┆ http://loc │\n",
      "│        ┆        ┆ (compatible ┆          ┆   ┆            ┆            ┆            ┆ alhost:808 │\n",
      "│        ┆        ┆ ; Konqu…    ┆          ┆   ┆            ┆            ┆            ┆ 0/tienda1/ │\n",
      "│        ┆        ┆             ┆          ┆   ┆            ┆            ┆            ┆ …          │\n",
      "│ Normal ┆ GET    ┆ Mozilla/5.0 ┆ no-cache ┆ … ┆ null       ┆ null       ┆ 0          ┆ http://loc │\n",
      "│        ┆        ┆ (compatible ┆          ┆   ┆            ┆            ┆            ┆ alhost:808 │\n",
      "│        ┆        ┆ ; Konqu…    ┆          ┆   ┆            ┆            ┆            ┆ 0/tienda1/ │\n",
      "│        ┆        ┆             ┆          ┆   ┆            ┆            ┆            ┆ …          │\n",
      "│ Normal ┆ POST   ┆ Mozilla/5.0 ┆ no-cache ┆ … ┆ Content-Le ┆ id=3&nombr ┆ 0          ┆ http://loc │\n",
      "│        ┆        ┆ (compatible ┆          ┆   ┆ ngth: 68   ┆ e=Vino+Rio ┆            ┆ alhost:808 │\n",
      "│        ┆        ┆ ; Konqu…    ┆          ┆   ┆            ┆ ja&precio= ┆            ┆ 0/tienda1/ │\n",
      "│        ┆        ┆             ┆          ┆   ┆            ┆ …          ┆            ┆ …          │\n",
      "│ Normal ┆ GET    ┆ Mozilla/5.0 ┆ no-cache ┆ … ┆ null       ┆ null       ┆ 0          ┆ http://loc │\n",
      "│        ┆        ┆ (compatible ┆          ┆   ┆            ┆            ┆            ┆ alhost:808 │\n",
      "│        ┆        ┆ ; Konqu…    ┆          ┆   ┆            ┆            ┆            ┆ 0/tienda1/ │\n",
      "│        ┆        ┆             ┆          ┆   ┆            ┆            ┆            ┆ …          │\n",
      "│ Normal ┆ POST   ┆ Mozilla/5.0 ┆ no-cache ┆ … ┆ Content-Le ┆ modo=entra ┆ 0          ┆ http://loc │\n",
      "│        ┆        ┆ (compatible ┆          ┆   ┆ ngth: 63   ┆ r&login=ch ┆            ┆ alhost:808 │\n",
      "│        ┆        ┆ ; Konqu…    ┆          ┆   ┆            ┆ oong&pwd=d ┆            ┆ 0/tienda1/ │\n",
      "│        ┆        ┆             ┆          ┆   ┆            ┆ …          ┆            ┆ …          │\n",
      "└────────┴────────┴─────────────┴──────────┴───┴────────────┴────────────┴────────────┴────────────┘\n",
      "Data types:\n",
      "[String, String, String, String, String, String, String, String, String, String, String, String, String, String, String, Int64, String]\n"
     ]
    }
   ],
   "source": [
    "# View first 5 rows\n",
    "print(df.head(5))\n",
    "\n",
    "# Get a quick summary: schema and data types\n",
    "print(\"Data types:\")\n",
    "print(df.dtypes)"
   ]
  },
  {
   "cell_type": "code",
   "execution_count": null,
   "metadata": {},
   "outputs": [],
   "source": []
  }
 ],
 "metadata": {
  "kernelspec": {
   "display_name": "Python 3",
   "language": "python",
   "name": "python3"
  },
  "language_info": {
   "codemirror_mode": {
    "name": "ipython",
    "version": 3
   },
   "file_extension": ".py",
   "mimetype": "text/x-python",
   "name": "python",
   "nbconvert_exporter": "python",
   "pygments_lexer": "ipython3",
   "version": "3.12.4"
  }
 },
 "nbformat": 4,
 "nbformat_minor": 2
}
