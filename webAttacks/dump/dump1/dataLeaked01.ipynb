{
 "cells": [
  {
   "cell_type": "code",
   "execution_count": null,
   "metadata": {},
   "outputs": [
    {
     "name": "stdout",
     "output_type": "stream",
     "text": [
      "Original columns: ['Unnamed: 0', 'Method', 'User-Agent', 'Pragma', 'Cache-Control', 'Accept', 'Accept-encoding', 'Accept-charset', 'language', 'host', 'cookie', 'content-type', 'connection', 'lenght', 'content', 'classification', 'URL']\n",
      "Dropped columns with >70.0% missing values: ['content-type', 'lenght', 'content']\n",
      "Most common host (for reference): localhost:8080\n",
      "'lenght' column was dropped due to high missing values and cannot be renamed.\n",
      "'length' column does not exist, skipping validation for this column.\n",
      "Cleaned dataset saved. Original rows: 61065, After cleaning: 61065\n",
      "Cleaned dataset columns: ['Method', 'User-Agent', 'Pragma', 'Cache-Control', 'Accept', 'Accept-encoding', 'Accept-charset', 'language', 'host', 'cookie', 'connection', 'classification', 'URL']\n"
     ]
    }
   ],
   "source": [
    "import pandas as pd\n",
    "from urllib.parse import urlparse, unquote\n",
    "\n",
    "# Load dataset\n",
    "df = pd.read_csv('../data/csic_database.csv')\n",
    "\n",
    "# Print original columns\n",
    "print(\"Original columns:\", df.columns.tolist())\n",
    "\n",
    "# Step 0: Drop columns with >90% missing values\n",
    "missing_ratio = df.isna().mean()\n",
    "threshold = 0.7\n",
    "columns_to_drop = missing_ratio[missing_ratio > threshold].index\n",
    "df = df.drop(columns=columns_to_drop)\n",
    "print(f\"Dropped columns with >{threshold*100}% missing values: {list(columns_to_drop)}\")\n",
    "\n",
    "# Step 1: Remove Unnamed Column\n",
    "df = df.drop(columns=['Unnamed: 0'], errors='ignore')\n",
    "\n",
    "# Step 2: Determine normal host (for reference, not adding as a feature)\n",
    "def get_host(url):\n",
    "    return urlparse(str(url)).netloc\n",
    "normal_host = df['URL'].apply(get_host).mode()[0]\n",
    "print(f\"Most common host (for reference): {normal_host}\")\n",
    "\n",
    "# Step 3: Rename 'lenght' to 'length' if it exists and was not dropped\n",
    "if 'lenght' in columns_to_drop:\n",
    "    print(\"'lenght' column was dropped due to high missing values and cannot be renamed.\")\n",
    "elif 'lenght' in df.columns:\n",
    "    df = df.rename(columns={'lenght': 'length'})\n",
    "else:\n",
    "    print(\"'lenght' column does not exist in the DataFrame.\")\n",
    "\n",
    "# Step 4: Standardize 'connection'\n",
    "if 'connection' in df.columns:\n",
    "    df['connection'] = df['connection'].str.replace('Connection: close', 'close', case=False).str.strip()\n",
    "\n",
    "# Step 5: Decode encoded data in URL\n",
    "df['URL'] = df['URL'].apply(lambda x: unquote(str(x)) if pd.notna(x) else x)\n",
    "\n",
    "# Step 6: Normalize remaining missing values\n",
    "df = df.fillna('')\n",
    "\n",
    "# Step 7: Remove duplicates\n",
    "# Step 8: Validate data types\n",
    "if 'length' in df.columns:\n",
    "    df['length'] = pd.to_numeric(df['length'], errors='coerce').fillna(0).astype(int)\n",
    "else:\n",
    "    print(\"'length' column does not exist, skipping validation for this column.\")\n",
    "df['classification'] = df['classification'].astype(int)\n",
    "\n",
    "# Save cleaned dataset\n",
    "df.to_csv('../data/fully_cleaned_dataset_no_anomaly.csv', index=False)\n",
    "print(f\"Cleaned dataset saved. Original rows: {len(pd.read_csv('../data/csic_database.csv'))}, After cleaning: {len(df)}\")\n",
    "df = pd.read_csv('../data/fully_cleaned_dataset_no_anomaly.csv')\n",
    "print(\"Cleaned dataset columns:\", df.columns.tolist())"
   ]
  }
 ],
 "metadata": {
  "kernelspec": {
   "display_name": "Python 3",
   "language": "python",
   "name": "python3"
  },
  "language_info": {
   "codemirror_mode": {
    "name": "ipython",
    "version": 3
   },
   "file_extension": ".py",
   "mimetype": "text/x-python",
   "name": "python",
   "nbconvert_exporter": "python",
   "pygments_lexer": "ipython3",
   "version": "3.12.4"
  }
 },
 "nbformat": 4,
 "nbformat_minor": 2
}
